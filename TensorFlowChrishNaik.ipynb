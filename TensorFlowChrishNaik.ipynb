{
  "nbformat": 4,
  "nbformat_minor": 0,
  "metadata": {
    "colab": {
      "provenance": [],
      "authorship_tag": "ABX9TyMcEvUVUGzX1Y4iYT4zsayD",
      "include_colab_link": true
    },
    "kernelspec": {
      "name": "python3",
      "display_name": "Python 3"
    },
    "language_info": {
      "name": "python"
    }
  },
  "cells": [
    {
      "cell_type": "markdown",
      "metadata": {
        "id": "view-in-github",
        "colab_type": "text"
      },
      "source": [
        "<a href=\"https://colab.research.google.com/github/zenoefffects/tensorflow/blob/main/TensorFlowChrishNaik.ipynb\" target=\"_parent\"><img src=\"https://colab.research.google.com/assets/colab-badge.svg\" alt=\"Open In Colab\"/></a>"
      ]
    },
    {
      "cell_type": "markdown",
      "source": [
        "BUILD A SIMPLE MACHINE LEARNING MODEL USING TENSORFLOW DEEPLEARNING"
      ],
      "metadata": {
        "id": "6_GkO2P0hZ5n"
      }
    },
    {
      "cell_type": "code",
      "source": [
        "import keras\n",
        "from keras.layers import Dense\n",
        "from keras.models import Sequential\n",
        "from keras.optimizers import Adam\n",
        "\n",
        "from sklearn.preprocessing import MinMaxScaler\n",
        "from sklearn.metrics import confusion_matrix\n",
        "from sklearn.utils import shuffle\n",
        "from random import randint\n",
        "import numpy as np"
      ],
      "metadata": {
        "id": "BAw6YUjDhkha"
      },
      "execution_count": 1,
      "outputs": []
    },
    {
      "cell_type": "markdown",
      "source": [
        "Random data of Individual ages with target variable as binary."
      ],
      "metadata": {
        "id": "npACJ59Eiez6"
      }
    },
    {
      "cell_type": "code",
      "source": [
        "## Train Dataset\n",
        "train_samples = []\n",
        "train_labels = []\n",
        "\n",
        "for i in range(1000):\n",
        "  young_ages = randint(13,64)\n",
        "  train_samples.append(young_ages)\n",
        "  train_labels.append(0)\n",
        "\n",
        "  old_ages = randint(65,100)\n",
        "  train_samples.append(old_ages)\n",
        "  train_labels.append(1)\n",
        "## Convert to numpy arrays and shuffle\n",
        "train_labels = np.array(train_labels)\n",
        "train_samples = np.array(train_samples)\n",
        "train_labels, train_samples = shuffle(train_labels, train_samples)\n",
        "\n",
        "## Test Dataset\n",
        "test_samples = []\n",
        "test_labels = []\n",
        "\n",
        "for i in range(500):\n",
        "  young_ages = randint(65,100)\n",
        "  test_samples.append(young_ages)\n",
        "  test_labels.append(1)\n",
        "\n",
        "  old_ages = randint(13,64)\n",
        "  test_samples.append(old_ages)\n",
        "  test_labels.append(0)\n",
        "## Convert to numpy arrays and shuffle\n",
        "test_labels = np.array(test_labels)\n",
        "test_samples = np.array(test_samples)\n",
        "test_labels, test_samples = shuffle(test_labels, test_samples)"
      ],
      "metadata": {
        "id": "EH2aYeiViLow"
      },
      "execution_count": 2,
      "outputs": []
    },
    {
      "cell_type": "markdown",
      "source": [
        "Scale Data using MinMaxScaler"
      ],
      "metadata": {
        "id": "UvXY3Hqgl1iv"
      }
    },
    {
      "cell_type": "code",
      "source": [
        "scaler = MinMaxScaler(feature_range=(0,1))\n",
        "scaled_train_samples = scaler.fit_transform(train_samples.reshape(-1,1))\n",
        "scaled_test_samples = scaler.fit_transform(test_samples.reshape(-1,1))"
      ],
      "metadata": {
        "id": "zM3skXzUl5IC"
      },
      "execution_count": 3,
      "outputs": []
    },
    {
      "cell_type": "code",
      "source": [
        "## Model building\n",
        "model = Sequential([\n",
        "    Dense(16, input_shape=(1,), activation='relu'),\n",
        "    Dense(32, activation='relu'),\n",
        "    Dense(2, activation='softmax')\n",
        "])"
      ],
      "metadata": {
        "colab": {
          "base_uri": "https://localhost:8080/"
        },
        "id": "4RNBhQ8xkXuT",
        "outputId": "c801e4bb-bcda-4e36-cc38-2fb87c7cb00a"
      },
      "execution_count": 4,
      "outputs": [
        {
          "output_type": "stream",
          "name": "stderr",
          "text": [
            "/usr/local/lib/python3.10/dist-packages/keras/src/layers/core/dense.py:87: UserWarning: Do not pass an `input_shape`/`input_dim` argument to a layer. When using Sequential models, prefer using an `Input(shape)` object as the first layer in the model instead.\n",
            "  super().__init__(activity_regularizer=activity_regularizer, **kwargs)\n"
          ]
        }
      ]
    },
    {
      "cell_type": "code",
      "source": [
        "## Model compilation\n",
        "model.compile(Adam(learning_rate=0.0001), loss='sparse_categorical_crossentropy', metrics=['accuracy'])"
      ],
      "metadata": {
        "id": "N3dKZqBbkhqH"
      },
      "execution_count": 5,
      "outputs": []
    },
    {
      "cell_type": "code",
      "source": [
        "## Model fitting\n",
        "model.fit(scaled_train_samples, train_labels, batch_size=10, epochs=20, shuffle=True, verbose=2)"
      ],
      "metadata": {
        "colab": {
          "base_uri": "https://localhost:8080/"
        },
        "id": "R6Vc4aL3ktAV",
        "outputId": "3fbb109d-6a8d-4108-e74b-9c1cf52d4773"
      },
      "execution_count": 6,
      "outputs": [
        {
          "output_type": "stream",
          "name": "stdout",
          "text": [
            "Epoch 1/20\n",
            "200/200 - 1s - 6ms/step - accuracy: 0.5775 - loss: 0.6274\n",
            "Epoch 2/20\n",
            "200/200 - 0s - 1ms/step - accuracy: 0.6500 - loss: 0.5919\n",
            "Epoch 3/20\n",
            "200/200 - 0s - 2ms/step - accuracy: 0.7270 - loss: 0.5535\n",
            "Epoch 4/20\n",
            "200/200 - 0s - 2ms/step - accuracy: 0.7955 - loss: 0.5089\n",
            "Epoch 5/20\n",
            "200/200 - 1s - 3ms/step - accuracy: 0.8390 - loss: 0.4619\n",
            "Epoch 6/20\n",
            "200/200 - 0s - 1ms/step - accuracy: 0.8850 - loss: 0.4136\n",
            "Epoch 7/20\n",
            "200/200 - 0s - 2ms/step - accuracy: 0.9075 - loss: 0.3674\n",
            "Epoch 8/20\n",
            "200/200 - 0s - 2ms/step - accuracy: 0.9205 - loss: 0.3251\n",
            "Epoch 9/20\n",
            "200/200 - 0s - 1ms/step - accuracy: 0.9355 - loss: 0.2883\n",
            "Epoch 10/20\n",
            "200/200 - 0s - 1ms/step - accuracy: 0.9475 - loss: 0.2570\n",
            "Epoch 11/20\n",
            "200/200 - 0s - 1ms/step - accuracy: 0.9580 - loss: 0.2307\n",
            "Epoch 12/20\n",
            "200/200 - 0s - 2ms/step - accuracy: 0.9615 - loss: 0.2087\n",
            "Epoch 13/20\n",
            "200/200 - 0s - 1ms/step - accuracy: 0.9645 - loss: 0.1902\n",
            "Epoch 14/20\n",
            "200/200 - 0s - 1ms/step - accuracy: 0.9710 - loss: 0.1747\n",
            "Epoch 15/20\n",
            "200/200 - 1s - 3ms/step - accuracy: 0.9770 - loss: 0.1614\n",
            "Epoch 16/20\n",
            "200/200 - 0s - 2ms/step - accuracy: 0.9775 - loss: 0.1502\n",
            "Epoch 17/20\n",
            "200/200 - 1s - 4ms/step - accuracy: 0.9820 - loss: 0.1403\n",
            "Epoch 18/20\n",
            "200/200 - 1s - 5ms/step - accuracy: 0.9770 - loss: 0.1321\n",
            "Epoch 19/20\n",
            "200/200 - 1s - 3ms/step - accuracy: 0.9825 - loss: 0.1246\n",
            "Epoch 20/20\n",
            "200/200 - 1s - 4ms/step - accuracy: 0.9845 - loss: 0.1181\n"
          ]
        },
        {
          "output_type": "execute_result",
          "data": {
            "text/plain": [
              "<keras.src.callbacks.history.History at 0x78b1eb6fd9f0>"
            ]
          },
          "metadata": {},
          "execution_count": 6
        }
      ]
    },
    {
      "cell_type": "code",
      "source": [
        "## Model prediction\n",
        "predictions=model.predict(scaled_test_samples)"
      ],
      "metadata": {
        "colab": {
          "base_uri": "https://localhost:8080/"
        },
        "id": "a0N4ympEkxmT",
        "outputId": "59ba1424-1171-40f8-a1e3-a6581a52944b"
      },
      "execution_count": 7,
      "outputs": [
        {
          "output_type": "stream",
          "name": "stdout",
          "text": [
            "\u001b[1m32/32\u001b[0m \u001b[32m━━━━━━━━━━━━━━━━━━━━\u001b[0m\u001b[37m\u001b[0m \u001b[1m0s\u001b[0m 7ms/step\n"
          ]
        }
      ]
    },
    {
      "cell_type": "code",
      "source": [
        "## Confusion Matrix\n",
        "confusion_matrix(test_labels, predictions.argmax(axis=1))"
      ],
      "metadata": {
        "colab": {
          "base_uri": "https://localhost:8080/"
        },
        "id": "HPKEMMLUk21Z",
        "outputId": "3f8d93b9-aa40-4e45-ef6a-1d4e8097fbcb"
      },
      "execution_count": 8,
      "outputs": [
        {
          "output_type": "execute_result",
          "data": {
            "text/plain": [
              "array([[480,  20],\n",
              "       [  0, 500]])"
            ]
          },
          "metadata": {},
          "execution_count": 8
        }
      ]
    },
    {
      "cell_type": "code",
      "source": [
        "from sklearn.metrics import accuracy_score\n",
        "accuracy_score(test_labels, predictions.argmax(axis=1))"
      ],
      "metadata": {
        "colab": {
          "base_uri": "https://localhost:8080/"
        },
        "id": "uOc3SyfxlCFB",
        "outputId": "4dd5eb24-421c-4b82-e49a-0215cc3aa90f"
      },
      "execution_count": 9,
      "outputs": [
        {
          "output_type": "execute_result",
          "data": {
            "text/plain": [
              "0.98"
            ]
          },
          "metadata": {},
          "execution_count": 9
        }
      ]
    },
    {
      "cell_type": "code",
      "source": [
        "model.evaluate(scaled_test_samples,test_labels)"
      ],
      "metadata": {
        "colab": {
          "base_uri": "https://localhost:8080/"
        },
        "id": "U4RCwe9MoAQc",
        "outputId": "f619c11b-1b8c-4986-fa24-a03f3417ce5b"
      },
      "execution_count": 10,
      "outputs": [
        {
          "output_type": "stream",
          "name": "stdout",
          "text": [
            "\u001b[1m32/32\u001b[0m \u001b[32m━━━━━━━━━━━━━━━━━━━━\u001b[0m\u001b[37m\u001b[0m \u001b[1m0s\u001b[0m 4ms/step - accuracy: 0.9741 - loss: 0.1151\n"
          ]
        },
        {
          "output_type": "execute_result",
          "data": {
            "text/plain": [
              "[0.1142919659614563, 0.9800000190734863]"
            ]
          },
          "metadata": {},
          "execution_count": 10
        }
      ]
    },
    {
      "cell_type": "code",
      "source": [],
      "metadata": {
        "id": "6HyFz-SZsWUx"
      },
      "execution_count": 10,
      "outputs": []
    }
  ]
}